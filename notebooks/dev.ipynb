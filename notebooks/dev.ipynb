{
 "cells": [
  {
   "cell_type": "code",
   "execution_count": 1,
   "id": "initial_id",
   "metadata": {
    "collapsed": true,
    "ExecuteTime": {
     "end_time": "2024-01-14T14:19:53.764034039Z",
     "start_time": "2024-01-14T14:19:53.588207618Z"
    }
   },
   "outputs": [],
   "source": [
    "import dataclasses\n",
    "import pathlib\n",
    "import json\n",
    "import pandas as pd\n",
    "import os\n",
    "\n",
    "\n",
    "os.chdir(pathlib.Path.cwd().parents[0])\n",
    "\n",
    "\n",
    "LEDGER_PATH = \"~/Nextcloud/Note/Finanze/ledger/2022.csv\"\n",
    "MMEX_PATH = \"~/Nextcloud/Note/Finanze/ledger/2021_mmex.csv\"\n",
    "EXAMPLE_MMEX_PATH = \"data/test.csv\"\n",
    "OUTPUT_PATH = \"data/test_import.csv\"\n",
    "\n",
    "@dataclasses.dataclass\n",
    "class LedgerCols:\n",
    "    DATE: str = \"DATE\"\n",
    "    BOH: str = \"BOH\"\n",
    "    DESCRIPTION: str = \"DESCRIPTION\"\n",
    "    CATEGORY: str = \"CATEGORY\"\n",
    "    CURRENCY: str = \"CURRENCY\"\n",
    "    AMOUNT: str = \"AMOUNT\"\n",
    "    BOH2: str = \"BOH2\"\n",
    "    BOH3: str = \"BOH3\"\n",
    "    \n",
    "@dataclasses.dataclass\n",
    "class MMEXCols:\n",
    "    Data: str = \"Data\"\n",
    "    Conto: str = \"Conto\"\n",
    "    Beneficiario: str = \"Beneficiario\"\n",
    "    Importo: str = \"Importo\"\n",
    "    Valuta: str = \"Valuta\"\n",
    "    Categoria: str = \"Categoria\"\n",
    "    SottoCategoria: str = \"Sotto-Categoria\"\n",
    "    Etichette: str = \"Etichette\"\n",
    "    Note: str = \"Note\"\n",
    "    Prelievo: str = \"Prelievo\"\n",
    "    Deposito: str = \"Deposito\"\n",
    "    \n",
    "ledger_cols = LedgerCols() \n",
    "mmex_cols = MMEXCols()\n",
    "\n",
    "with pathlib.Path(\"/media/paolo/Kingston SSD/ledger-to-mmex/data/mapped_categories.json\").open(\"r\") as f:\n",
    "    mapped_categories: dict[str, str] = json.load(f)"
   ]
  },
  {
   "cell_type": "code",
   "execution_count": 2,
   "outputs": [],
   "source": [
    "conto_map: dict[str, str] = {\n",
    "    \"Intesa XME\": \"Intesa\",\n",
    "    \"Contanti Sant'Arcangelo\": \"Casa\"\n",
    "}"
   ],
   "metadata": {
    "collapsed": false,
    "ExecuteTime": {
     "end_time": "2024-01-14T14:19:53.807584961Z",
     "start_time": "2024-01-14T14:19:53.807064720Z"
    }
   },
   "id": "debb9add95c55123"
  },
  {
   "cell_type": "code",
   "execution_count": 3,
   "outputs": [
    {
     "data": {
      "text/plain": "            DATE                                        DESCRIPTION  \\\n0     2022/01/01                                  Starting balances   \n1     2022/01/01                                  Starting balances   \n2     2022/01/01                                  Starting balances   \n3     2022/01/01                                  Starting balances   \n4     2022/01/01                                  Starting balances   \n...          ...                                                ...   \n1076  2022/12/29  Soldi che erano nel portafogli che mi ha regal...   \n1077  2022/12/30                                libro claudia mafia   \n1078  2022/12/30                                libro claudia mafia   \n1079  2022/12/31                                   Imposta di bollo   \n1080  2022/12/31                                   Imposta di bollo   \n\n                                  CATEGORY CURRENCY   AMOUNT  AMOUNT_NORM  \n0                    Assets:Banca:Contanti        €   255.08       255.08  \n1     Assets:Banca:Contanti Sant'Arcangelo        €  2080.00      2080.00  \n2                        Assets:Banca:Hype        €   253.58       253.58  \n3                         Assets:Banca:N26        €     0.26         0.26  \n4                    Assets:Banca:Postepay        €     7.20         7.20  \n...                                    ...      ...      ...          ...  \n1076                        Guadagni:Altro        €   -51.00        51.00  \n1077                          Spese:Regali        €     1.50         1.50  \n1078                 Assets:Banca:Contanti        €    -1.50         1.50  \n1079                     Spese:Spese:Tasse        €     2.90         2.90  \n1080               Assets:Banca:Intesa XME        €    -2.90         2.90  \n\n[1081 rows x 6 columns]",
      "text/html": "<div>\n<style scoped>\n    .dataframe tbody tr th:only-of-type {\n        vertical-align: middle;\n    }\n\n    .dataframe tbody tr th {\n        vertical-align: top;\n    }\n\n    .dataframe thead th {\n        text-align: right;\n    }\n</style>\n<table border=\"1\" class=\"dataframe\">\n  <thead>\n    <tr style=\"text-align: right;\">\n      <th></th>\n      <th>DATE</th>\n      <th>DESCRIPTION</th>\n      <th>CATEGORY</th>\n      <th>CURRENCY</th>\n      <th>AMOUNT</th>\n      <th>AMOUNT_NORM</th>\n    </tr>\n  </thead>\n  <tbody>\n    <tr>\n      <th>0</th>\n      <td>2022/01/01</td>\n      <td>Starting balances</td>\n      <td>Assets:Banca:Contanti</td>\n      <td>€</td>\n      <td>255.08</td>\n      <td>255.08</td>\n    </tr>\n    <tr>\n      <th>1</th>\n      <td>2022/01/01</td>\n      <td>Starting balances</td>\n      <td>Assets:Banca:Contanti Sant'Arcangelo</td>\n      <td>€</td>\n      <td>2080.00</td>\n      <td>2080.00</td>\n    </tr>\n    <tr>\n      <th>2</th>\n      <td>2022/01/01</td>\n      <td>Starting balances</td>\n      <td>Assets:Banca:Hype</td>\n      <td>€</td>\n      <td>253.58</td>\n      <td>253.58</td>\n    </tr>\n    <tr>\n      <th>3</th>\n      <td>2022/01/01</td>\n      <td>Starting balances</td>\n      <td>Assets:Banca:N26</td>\n      <td>€</td>\n      <td>0.26</td>\n      <td>0.26</td>\n    </tr>\n    <tr>\n      <th>4</th>\n      <td>2022/01/01</td>\n      <td>Starting balances</td>\n      <td>Assets:Banca:Postepay</td>\n      <td>€</td>\n      <td>7.20</td>\n      <td>7.20</td>\n    </tr>\n    <tr>\n      <th>...</th>\n      <td>...</td>\n      <td>...</td>\n      <td>...</td>\n      <td>...</td>\n      <td>...</td>\n      <td>...</td>\n    </tr>\n    <tr>\n      <th>1076</th>\n      <td>2022/12/29</td>\n      <td>Soldi che erano nel portafogli che mi ha regal...</td>\n      <td>Guadagni:Altro</td>\n      <td>€</td>\n      <td>-51.00</td>\n      <td>51.00</td>\n    </tr>\n    <tr>\n      <th>1077</th>\n      <td>2022/12/30</td>\n      <td>libro claudia mafia</td>\n      <td>Spese:Regali</td>\n      <td>€</td>\n      <td>1.50</td>\n      <td>1.50</td>\n    </tr>\n    <tr>\n      <th>1078</th>\n      <td>2022/12/30</td>\n      <td>libro claudia mafia</td>\n      <td>Assets:Banca:Contanti</td>\n      <td>€</td>\n      <td>-1.50</td>\n      <td>1.50</td>\n    </tr>\n    <tr>\n      <th>1079</th>\n      <td>2022/12/31</td>\n      <td>Imposta di bollo</td>\n      <td>Spese:Spese:Tasse</td>\n      <td>€</td>\n      <td>2.90</td>\n      <td>2.90</td>\n    </tr>\n    <tr>\n      <th>1080</th>\n      <td>2022/12/31</td>\n      <td>Imposta di bollo</td>\n      <td>Assets:Banca:Intesa XME</td>\n      <td>€</td>\n      <td>-2.90</td>\n      <td>2.90</td>\n    </tr>\n  </tbody>\n</table>\n<p>1081 rows × 6 columns</p>\n</div>"
     },
     "execution_count": 3,
     "metadata": {},
     "output_type": "execute_result"
    }
   ],
   "source": [
    "ledger = pd.read_csv(LEDGER_PATH, header=None, names=[x.name for x in dataclasses.fields(LedgerCols())]).drop(columns=[ledger_cols.BOH3, ledger_cols.BOH2, ledger_cols.BOH])\n",
    "ledger[\"AMOUNT_NORM\"] = abs(ledger[\"AMOUNT\"])\n",
    "ledger"
   ],
   "metadata": {
    "collapsed": false,
    "ExecuteTime": {
     "end_time": "2024-01-14T14:19:53.808373830Z",
     "start_time": "2024-01-14T14:19:53.807254077Z"
    }
   },
   "id": "78b96ddbc4ba62b6"
  },
  {
   "cell_type": "code",
   "execution_count": 4,
   "outputs": [],
   "source": [
    "indices = ledger.groupby([ledger_cols.DATE, ledger_cols.DESCRIPTION, \"AMOUNT_NORM\"]).indices.values()\n",
    "\n",
    "def detect_transaction_type(accounts: list[str]):\n",
    "    accounts = [acc.split(':')[0].lower() for acc in accounts]\n",
    "    for acc in accounts:\n",
    "        if acc == \"guadagni\":\n",
    "            return \"Deposit\"\n",
    "        if acc == \"spese\":\n",
    "            return \"Withdrawal\"\n",
    "    return \"Transfer\"\n",
    "\n",
    "def extract_category(accounts: list[str], transaction_type: str) -> tuple[str, str]:\n",
    "    if transaction_type == \"Transfer\":\n",
    "        return \"Trasferimento\", \"Trasferimento\"\n",
    "    \n",
    "    for account in accounts:\n",
    "        if \"Assets\" in account:\n",
    "            continue\n",
    "        \n",
    "        splits = mapped_categories[account].split(\":\")\n",
    "        if len(splits) == 1:\n",
    "            return splits[0], \"\"\n",
    "        return \":\".join(splits[:-1]), splits[-1]\n",
    "        \n",
    "def extract_account(accounts: list[str]) -> str:\n",
    "    for account in accounts:\n",
    "        if \"Assets\" in account:\n",
    "            return account.split(':')[-1]\n",
    "    return \"\"\n",
    "\n",
    "def extract_transaction_account_payee(transaction: pd.DataFrame) -> tuple[str, str]:\n",
    "    payee = None\n",
    "    account = None\n",
    "    for _, row in transaction.iterrows():\n",
    "        if row[ledger_cols.AMOUNT] < 0:\n",
    "            account = row[ledger_cols.CATEGORY].split(':')[-1]\n",
    "        if row[ledger_cols.AMOUNT] > 0:\n",
    "            payee = f\"> {row[ledger_cols.CATEGORY].split(':')[-1]}\"\n",
    "    \n",
    "    return account, payee\n",
    "\n",
    "def process_transaction(dataframe: pd.DataFrame):\n",
    "    date: str = dataframe[ledger_cols.DATE][0].replace(\"/\", \"-\")\n",
    "    transaction_type: str = detect_transaction_type(dataframe[ledger_cols.CATEGORY].tolist())\n",
    "    currency: str = \"EUR\" #dataframe[ledger_cols.CURRENCY][0]\n",
    "    category, sub_category = extract_category(dataframe[ledger_cols.CATEGORY].tolist(), transaction_type)\n",
    "    amount: float = dataframe[\"AMOUNT_NORM\"][0] if transaction_type != \"Withdrawal\" else -dataframe[\"AMOUNT_NORM\"][0]\n",
    "    note: str = dataframe[ledger_cols.DESCRIPTION][0]\n",
    "    \n",
    "    if transaction_type == \"Transfer\":\n",
    "        account, payee = extract_transaction_account_payee(dataframe[[ledger_cols.CATEGORY, ledger_cols.AMOUNT]])\n",
    "    else:\n",
    "        account: str = extract_account(dataframe[ledger_cols.CATEGORY].tolist())\n",
    "        payee: str = \"None\"\n",
    "\n",
    "    return [date, \"R\", transaction_type, account, payee, amount, currency, category, sub_category, note]\n",
    "\n",
    "processed_transactions = []\n",
    "for idx in indices:\n",
    "    if len(idx) != 2:\n",
    "        continue\n",
    "    processed_transactions.append(process_transaction(ledger.loc[idx].reset_index(drop=True)))\n"
   ],
   "metadata": {
    "collapsed": false,
    "ExecuteTime": {
     "end_time": "2024-01-14T14:19:53.976060474Z",
     "start_time": "2024-01-14T14:19:53.807399461Z"
    }
   },
   "id": "ce19e75b43b970f8"
  },
  {
   "cell_type": "code",
   "execution_count": 5,
   "outputs": [
    {
     "data": {
      "text/plain": "Index(['Data', 'Stato', 'Tipo', 'Conto', 'Beneficiario', 'Importo', 'Valuta',\n       'Categoria', 'Sotto-Categoria', 'Note'],\n      dtype='object')"
     },
     "execution_count": 5,
     "metadata": {},
     "output_type": "execute_result"
    }
   ],
   "source": [
    "mmex_test = pd.read_csv(EXAMPLE_MMEX_PATH)\n",
    "mmex_test.insert(1, \"Stato\", \"R\")\n",
    "mmex_test.columns"
   ],
   "metadata": {
    "collapsed": false,
    "ExecuteTime": {
     "end_time": "2024-01-14T14:19:53.983659439Z",
     "start_time": "2024-01-14T14:19:53.977854459Z"
    }
   },
   "id": "3a584b4525277ea0"
  },
  {
   "cell_type": "code",
   "execution_count": 6,
   "outputs": [],
   "source": [
    "processed_dataframe = pd.DataFrame(processed_transactions, columns=mmex_test.columns) #.to_csv(OUTPUT_PATH, index=False)"
   ],
   "metadata": {
    "collapsed": false,
    "ExecuteTime": {
     "end_time": "2024-01-14T14:19:54.007331318Z",
     "start_time": "2024-01-14T14:19:53.982831036Z"
    }
   },
   "id": "db57772db82a7b11"
  },
  {
   "cell_type": "code",
   "execution_count": 7,
   "outputs": [
    {
     "data": {
      "text/plain": "           Data Stato        Tipo                    Conto Beneficiario  \\\n0    2022-01-01     R     Deposit                 Contanti         None   \n1    2022-01-04     R  Withdrawal                  Revolut         None   \n2    2022-01-04     R  Withdrawal                 Contanti         None   \n3    2022-01-05     R  Withdrawal                 Contanti         None   \n4    2022-01-07     R    Transfer  Contanti Sant'Arcangelo   > Contanti   \n..          ...   ...         ...                      ...          ...   \n532  2022-12-26     R    Transfer               Intesa XME   > Contanti   \n533  2022-12-27     R     Deposit  Contanti Sant'Arcangelo         None   \n534  2022-12-29     R     Deposit                 Contanti         None   \n535  2022-12-30     R  Withdrawal                 Contanti         None   \n536  2022-12-31     R  Withdrawal               Intesa XME         None   \n\n     Importo Valuta            Categoria Sotto-Categoria  \\\n0      50.00    EUR              Entrate          Regali   \n1     -25.40    EUR          Informatica           Altro   \n2     -10.00    EUR                 Cibo  Mangiare fuori   \n3      -4.00    EUR  Cibo:Mangiare fuori       Colazione   \n4     400.00    EUR        Trasferimento   Trasferimento   \n..       ...    ...                  ...             ...   \n532    26.98    EUR        Trasferimento   Trasferimento   \n533   100.00    EUR              Entrate          Regali   \n534    51.00    EUR        Altre Entrate                   \n535    -1.50    EUR               Regali                   \n536    -2.90    EUR                Tasse                   \n\n                                                  Note  \n0                                      Regalo Zia Anna  \n1                                     Smartwatch nuovo  \n2                                  StikHouse Anna Marù  \n3                                       Colazione Marù  \n4    Trasferimento da Contanti Sant'Arcangelo a Con...  \n..                                                 ...  \n532             Trasferimento da Intesa XME a Contanti  \n533                                       Regalo Mamma  \n534  Soldi che erano nel portafogli che mi ha regal...  \n535                                libro claudia mafia  \n536                                   Imposta di bollo  \n\n[537 rows x 10 columns]",
      "text/html": "<div>\n<style scoped>\n    .dataframe tbody tr th:only-of-type {\n        vertical-align: middle;\n    }\n\n    .dataframe tbody tr th {\n        vertical-align: top;\n    }\n\n    .dataframe thead th {\n        text-align: right;\n    }\n</style>\n<table border=\"1\" class=\"dataframe\">\n  <thead>\n    <tr style=\"text-align: right;\">\n      <th></th>\n      <th>Data</th>\n      <th>Stato</th>\n      <th>Tipo</th>\n      <th>Conto</th>\n      <th>Beneficiario</th>\n      <th>Importo</th>\n      <th>Valuta</th>\n      <th>Categoria</th>\n      <th>Sotto-Categoria</th>\n      <th>Note</th>\n    </tr>\n  </thead>\n  <tbody>\n    <tr>\n      <th>0</th>\n      <td>2022-01-01</td>\n      <td>R</td>\n      <td>Deposit</td>\n      <td>Contanti</td>\n      <td>None</td>\n      <td>50.00</td>\n      <td>EUR</td>\n      <td>Entrate</td>\n      <td>Regali</td>\n      <td>Regalo Zia Anna</td>\n    </tr>\n    <tr>\n      <th>1</th>\n      <td>2022-01-04</td>\n      <td>R</td>\n      <td>Withdrawal</td>\n      <td>Revolut</td>\n      <td>None</td>\n      <td>-25.40</td>\n      <td>EUR</td>\n      <td>Informatica</td>\n      <td>Altro</td>\n      <td>Smartwatch nuovo</td>\n    </tr>\n    <tr>\n      <th>2</th>\n      <td>2022-01-04</td>\n      <td>R</td>\n      <td>Withdrawal</td>\n      <td>Contanti</td>\n      <td>None</td>\n      <td>-10.00</td>\n      <td>EUR</td>\n      <td>Cibo</td>\n      <td>Mangiare fuori</td>\n      <td>StikHouse Anna Marù</td>\n    </tr>\n    <tr>\n      <th>3</th>\n      <td>2022-01-05</td>\n      <td>R</td>\n      <td>Withdrawal</td>\n      <td>Contanti</td>\n      <td>None</td>\n      <td>-4.00</td>\n      <td>EUR</td>\n      <td>Cibo:Mangiare fuori</td>\n      <td>Colazione</td>\n      <td>Colazione Marù</td>\n    </tr>\n    <tr>\n      <th>4</th>\n      <td>2022-01-07</td>\n      <td>R</td>\n      <td>Transfer</td>\n      <td>Contanti Sant'Arcangelo</td>\n      <td>&gt; Contanti</td>\n      <td>400.00</td>\n      <td>EUR</td>\n      <td>Trasferimento</td>\n      <td>Trasferimento</td>\n      <td>Trasferimento da Contanti Sant'Arcangelo a Con...</td>\n    </tr>\n    <tr>\n      <th>...</th>\n      <td>...</td>\n      <td>...</td>\n      <td>...</td>\n      <td>...</td>\n      <td>...</td>\n      <td>...</td>\n      <td>...</td>\n      <td>...</td>\n      <td>...</td>\n      <td>...</td>\n    </tr>\n    <tr>\n      <th>532</th>\n      <td>2022-12-26</td>\n      <td>R</td>\n      <td>Transfer</td>\n      <td>Intesa XME</td>\n      <td>&gt; Contanti</td>\n      <td>26.98</td>\n      <td>EUR</td>\n      <td>Trasferimento</td>\n      <td>Trasferimento</td>\n      <td>Trasferimento da Intesa XME a Contanti</td>\n    </tr>\n    <tr>\n      <th>533</th>\n      <td>2022-12-27</td>\n      <td>R</td>\n      <td>Deposit</td>\n      <td>Contanti Sant'Arcangelo</td>\n      <td>None</td>\n      <td>100.00</td>\n      <td>EUR</td>\n      <td>Entrate</td>\n      <td>Regali</td>\n      <td>Regalo Mamma</td>\n    </tr>\n    <tr>\n      <th>534</th>\n      <td>2022-12-29</td>\n      <td>R</td>\n      <td>Deposit</td>\n      <td>Contanti</td>\n      <td>None</td>\n      <td>51.00</td>\n      <td>EUR</td>\n      <td>Altre Entrate</td>\n      <td></td>\n      <td>Soldi che erano nel portafogli che mi ha regal...</td>\n    </tr>\n    <tr>\n      <th>535</th>\n      <td>2022-12-30</td>\n      <td>R</td>\n      <td>Withdrawal</td>\n      <td>Contanti</td>\n      <td>None</td>\n      <td>-1.50</td>\n      <td>EUR</td>\n      <td>Regali</td>\n      <td></td>\n      <td>libro claudia mafia</td>\n    </tr>\n    <tr>\n      <th>536</th>\n      <td>2022-12-31</td>\n      <td>R</td>\n      <td>Withdrawal</td>\n      <td>Intesa XME</td>\n      <td>None</td>\n      <td>-2.90</td>\n      <td>EUR</td>\n      <td>Tasse</td>\n      <td></td>\n      <td>Imposta di bollo</td>\n    </tr>\n  </tbody>\n</table>\n<p>537 rows × 10 columns</p>\n</div>"
     },
     "execution_count": 7,
     "metadata": {},
     "output_type": "execute_result"
    }
   ],
   "source": [
    "processed_dataframe"
   ],
   "metadata": {
    "collapsed": false,
    "ExecuteTime": {
     "end_time": "2024-01-14T14:19:54.039639200Z",
     "start_time": "2024-01-14T14:19:53.998709251Z"
    }
   },
   "id": "c0de5c9c0fa9e9b"
  },
  {
   "cell_type": "code",
   "execution_count": 8,
   "outputs": [],
   "source": [
    "import re\n",
    "\n",
    "def convert_conto_name(old_conto: str) -> str:\n",
    "    for k in conto_map:\n",
    "        if k in old_conto:\n",
    "            return re.sub(k, conto_map[k], old_conto)\n",
    "\n",
    "    return old_conto\n",
    "\n",
    "processed_dataframe[\"Beneficiario\"] = processed_dataframe[\"Beneficiario\"].apply(convert_conto_name)\n",
    "processed_dataframe[\"Conto\"] = processed_dataframe[\"Conto\"].apply(convert_conto_name)\n",
    "processed_dataframe[\"Note\"] = processed_dataframe[\"Note\"].apply(convert_conto_name)"
   ],
   "metadata": {
    "collapsed": false,
    "ExecuteTime": {
     "end_time": "2024-01-14T14:19:54.040201100Z",
     "start_time": "2024-01-14T14:19:54.039082329Z"
    }
   },
   "id": "1723f467fa89f259"
  },
  {
   "cell_type": "code",
   "execution_count": 9,
   "outputs": [],
   "source": [
    "for conto in processed_dataframe.Conto.unique():\n",
    "    conto_output_path = (pathlib.Path(\"data/export\") / conto).with_suffix(\".csv\")\n",
    "    conto_transfer_path = (pathlib.Path(\"data/export\") / f\"{conto}_transfer\").with_suffix(\".csv\")\n",
    "    \n",
    "    conto_df = processed_dataframe[(processed_dataframe.Note.str.contains(conto)) | (processed_dataframe.Conto == conto)]\n",
    "    \n",
    "    conto_df[conto_df.Tipo != \"Transfer\"].to_csv(conto_output_path, index=False, header=None)\n",
    "    \n",
    "    conto_df[conto_df.Tipo == \"Transfer\"].to_csv(conto_transfer_path, index=False, header=None)\n",
    "    \n",
    "#     break\n",
    "# tmp"
   ],
   "metadata": {
    "collapsed": false,
    "ExecuteTime": {
     "end_time": "2024-01-14T14:19:54.040438868Z",
     "start_time": "2024-01-14T14:19:54.039188429Z"
    }
   },
   "id": "f295e8804fea9bea"
  }
 ],
 "metadata": {
  "kernelspec": {
   "display_name": "Python 3",
   "language": "python",
   "name": "python3"
  },
  "language_info": {
   "codemirror_mode": {
    "name": "ipython",
    "version": 2
   },
   "file_extension": ".py",
   "mimetype": "text/x-python",
   "name": "python",
   "nbconvert_exporter": "python",
   "pygments_lexer": "ipython2",
   "version": "2.7.6"
  }
 },
 "nbformat": 4,
 "nbformat_minor": 5
}
