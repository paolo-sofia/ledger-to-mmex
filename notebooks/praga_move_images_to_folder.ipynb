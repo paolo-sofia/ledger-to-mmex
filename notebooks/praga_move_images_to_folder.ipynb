{
 "cells": [
  {
   "cell_type": "code",
   "execution_count": 23,
   "id": "initial_id",
   "metadata": {
    "ExecuteTime": {
     "end_time": "2024-01-14T14:19:53.764034039Z",
     "start_time": "2024-01-14T14:19:53.588207618Z"
    }
   },
   "outputs": [
    {
     "data": {
      "text/plain": [
       "<generator object Path.glob at 0x7c45d71769b0>"
      ]
     },
     "execution_count": 23,
     "metadata": {},
     "output_type": "execute_result"
    }
   ],
   "source": [
    "import dataclasses\n",
    "import pathlib\n",
    "import json\n",
    "import pandas as pd\n",
    "import os\n",
    "from PIL import Image\n",
    "import shutil\n",
    "\n",
    "HORIZONTAL_PATH = pathlib.Path(\"~/Nextcloud/Photos/Viaggi/Praga/orizzontali/\").expanduser()\n",
    "VERTICAL_PATH = pathlib.Path(\"~/Nextcloud/Photos/Viaggi/Praga/verticali/\").expanduser()\n",
    "\n",
    "images_path: list[pathlib.Path] = pathlib.Path(\"~/Nextcloud/Photos/\").expanduser().glob(\"*.jpg\")\n",
    "images_path"
   ]
  },
  {
   "cell_type": "code",
   "execution_count": 25,
   "id": "265bd683-ffa8-438c-964b-4643d5537e40",
   "metadata": {},
   "outputs": [],
   "source": [
    "for image_path in images_path:\n",
    "    width, height = Image.open(image_path).size\n",
    "    new_path: pathlib.Path = HORIZONTAL_PATH / image_path.name if width > height else VERTICAL_PATH / image_path.name\n",
    "    shutil.move(image_path, new_path)"
   ]
  },
  {
   "cell_type": "code",
   "execution_count": null,
   "id": "c00cb34f-0c1a-44b4-a0ee-2bdb3282e8be",
   "metadata": {},
   "outputs": [],
   "source": []
  }
 ],
 "metadata": {
  "kernelspec": {
   "display_name": "Python 3 (ipykernel)",
   "language": "python",
   "name": "python3"
  },
  "language_info": {
   "codemirror_mode": {
    "name": "ipython",
    "version": 3
   },
   "file_extension": ".py",
   "mimetype": "text/x-python",
   "name": "python",
   "nbconvert_exporter": "python",
   "pygments_lexer": "ipython3",
   "version": "3.11.7"
  }
 },
 "nbformat": 4,
 "nbformat_minor": 5
}
