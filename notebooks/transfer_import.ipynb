{
 "cells": [
  {
   "cell_type": "code",
   "execution_count": 2,
   "id": "659a4661a69cc9aa",
   "metadata": {
    "collapsed": false,
    "ExecuteTime": {
     "end_time": "2024-01-14T14:56:59.266073254Z",
     "start_time": "2024-01-14T14:56:59.086199207Z"
    }
   },
   "outputs": [],
   "source": [
    "import sqlite3\n",
    "import pandas as pd\n",
    "\n",
    "MMEX_PATH: str = \"/home/paolo/Nextcloud/MoneyManager/finances.mmb\""
   ]
  },
  {
   "cell_type": "code",
   "execution_count": 3,
   "outputs": [],
   "source": [
    "def get_max_transaction_id() -> int:\n",
    "    connection: sqlite3.Connection = sqlite3.connect(MMEX_PATH)\n",
    "    cursor: sqlite3.Cursor = connection.cursor()\n",
    "    results: list = cursor.execute(\n",
    "        \"\"\"\n",
    "        SELECT\n",
    "            MAX(TRANSID)\n",
    "        FROM\n",
    "            CHECKINGACCOUNT_V1\n",
    "        \"\"\"\n",
    "    ).fetchone()\n",
    "\n",
    "    return results[0]\n",
    "\n",
    "def get_column_names_table(table_name: str) -> list[str]:\n",
    "    connection: sqlite3.Connection = sqlite3.connect(MMEX_PATH)\n",
    "    cursor: sqlite3.Cursor = connection.cursor()\n",
    "    cursor = cursor.execute(\n",
    "        f\"\"\"\n",
    "        SELECT\n",
    "            *\n",
    "        FROM\n",
    "            {table_name}\n",
    "        LIMIT 1\n",
    "        \"\"\"\n",
    "    )\n",
    "    column_names: list[str] = [description[0] for description in cursor.description]\n",
    "    connection.close()\n",
    "    return column_names\n",
    "\n",
    "def load_accounts() -> pd.DataFrame:\n",
    "    connection: sqlite3.Connection = sqlite3.connect(MMEX_PATH)\n",
    "    cursor: sqlite3.Cursor = connection.cursor()\n",
    "    results: list = cursor.execute(\n",
    "        \"\"\"\n",
    "        SELECT\n",
    "            ACCOUNTID, ACCOUNTNAME\n",
    "        FROM\n",
    "            ACCOUNTLIST_V1\n",
    "        \"\"\"\n",
    "    ).fetchall()\n",
    "    \n",
    "    column_names: list[str] = [description[0] for description in cursor.description]\n",
    "    connection.close()\n",
    "    return pd.DataFrame(results, columns=column_names)\n",
    "\n",
    "def load_transfers(path: str) -> pd.DataFrame:\n",
    "    transfers: pd.DataFrame = pd.read_csv(path, \n",
    "                       names=['Data', 'Stato', 'Tipo', 'Conto', 'Beneficiario', 'Importo', 'Valuta', 'Categoria', 'Sotto-Categoria', 'Note'])\n",
    "    transfers[\"Beneficiario\"] = transfers[\"Beneficiario\"].str.replace(\"> \", \"\")\n",
    "    return transfers\n"
   ],
   "metadata": {
    "collapsed": true,
    "ExecuteTime": {
     "end_time": "2024-01-14T14:56:59.272879456Z",
     "start_time": "2024-01-14T14:56:59.270992214Z"
    }
   },
   "id": "initial_id"
  },
  {
   "cell_type": "code",
   "execution_count": 4,
   "outputs": [],
   "source": [
    "max_transaction_id: int = get_max_transaction_id()\n",
    "accounts: pd.DataFrame = load_accounts()"
   ],
   "metadata": {
    "collapsed": false,
    "ExecuteTime": {
     "end_time": "2024-01-14T14:56:59.287949630Z",
     "start_time": "2024-01-14T14:56:59.274666418Z"
    }
   },
   "id": "22801040f0735024"
  },
  {
   "cell_type": "code",
   "execution_count": 8,
   "outputs": [],
   "source": [
    "from datetime import datetime\n",
    "\n",
    "DATETIME_FORMAT = \"%Y-%m-%dT%H:%M:%S\"\n",
    "\n",
    "\n",
    "\n",
    "def save_account_trasnfers_to_db(transfers_df: pd.DataFrame):\n",
    "    payee_id, followup_id, color = -1, -1, -1\n",
    "    transaction_number, deleted_time = '', ''\n",
    "    transcode: str = \"Transfer\"\n",
    "    status: str = 'R'\n",
    "    categ_id: int = 102\n",
    "\n",
    "    transaction_id: int = get_max_transaction_id()\n",
    "    transfers_list = []\n",
    "    \n",
    "\n",
    "    for idx, row in transfers_df.iterrows():\n",
    "        conto, beneficiario = accounts.loc[accounts.ACCOUNTNAME == row.Conto].ACCOUNTID.to_numpy()[0], accounts.loc[accounts.ACCOUNTNAME == row.Beneficiario].ACCOUNTID.to_numpy()[0]\n",
    "        note = row.Note\n",
    "        trans_date: str = row.Data\n",
    "        amount: float = row.Importo\n",
    "        update_time: str = datetime.now().strftime(DATETIME_FORMAT)\n",
    "        transaction_id += 1\n",
    "        transfers_list.append([transaction_id, conto, beneficiario, payee_id, transcode, amount, status, transaction_number, note, categ_id, trans_date, update_time, deleted_time, followup_id, amount, color])\n",
    "\n",
    "    \n",
    "    mmex_transfers_df: pd.DataFrame = pd.DataFrame(transfers_list, columns=get_column_names_table(\"CHECKINGACCOUNT_V1\"))\n",
    "\n",
    "    with sqlite3.connect(MMEX_PATH) as conn:\n",
    "        mmex_transfers_df.to_sql(\"CHECKINGACCOUNT_V1\", conn, if_exists=\"append\", index=False)\n",
    "\n",
    "        "
   ],
   "metadata": {
    "collapsed": false,
    "ExecuteTime": {
     "end_time": "2024-01-14T14:58:24.926495612Z",
     "start_time": "2024-01-14T14:58:24.923747416Z"
    }
   },
   "id": "f133949c199d3bc0"
  },
  {
   "cell_type": "code",
   "execution_count": 9,
   "outputs": [],
   "source": [
    "import pathlib\n",
    "\n",
    "for account_path in pathlib.Path(\"/media/paolo/Kingston SSD/ledger-to-mmex/data/export\").rglob(\"*transfer.csv\"):\n",
    "    try:\n",
    "        transfers: pd.DataFrame = load_transfers(account_path)\n",
    "        save_account_trasnfers_to_db(transfers)\n",
    "    except Exception as e:\n",
    "        print(account_path)\n",
    "        break"
   ],
   "metadata": {
    "collapsed": false,
    "ExecuteTime": {
     "end_time": "2024-01-14T14:58:26.542129917Z",
     "start_time": "2024-01-14T14:58:26.405829014Z"
    }
   },
   "id": "91a580fe632c2fdb"
  }
 ],
 "metadata": {
  "kernelspec": {
   "display_name": "Python 3",
   "language": "python",
   "name": "python3"
  },
  "language_info": {
   "codemirror_mode": {
    "name": "ipython",
    "version": 2
   },
   "file_extension": ".py",
   "mimetype": "text/x-python",
   "name": "python",
   "nbconvert_exporter": "python",
   "pygments_lexer": "ipython2",
   "version": "2.7.6"
  }
 },
 "nbformat": 4,
 "nbformat_minor": 5
}
